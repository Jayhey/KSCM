{
 "cells": [
  {
   "cell_type": "code",
   "execution_count": null,
   "metadata": {},
   "outputs": [],
   "source": [
    "import pandas as pd\n",
    "import numpy as np\n",
    "import os\n",
    "\n",
    "Raw_Data_Path = \"./Pilot_Rawdata2_20180528/Two_Preprocessing_dataset_Digraph/\"\n",
    "Output_Path = \"./Pilot_Rawdata2_20180528/Three_Modeling_Results/\"\n",
    "Language = \"Korean\"\n",
    "\n",
    "File_Name = np.array(os.listdir(os.path.join(Raw_Data_Path, Language)))\n",
    "Full_File_Path = np.array([os.path.join(Raw_Data_Path, Language) + '/' + x for x in File_Name])\n",
    "\n",
    "split = np.array(list(map(lambda a: a.split('_'), File_Name)))\n",
    "LANGUAGE = split[:,0]\n",
    "Student_ID =  split[:,1]\n",
    "Experiment_Number = split[:,2]\n",
    "Experiment_Number = np.array(list(map(lambda a: a[:-4], Experiment_Number)))\n",
    "\n",
    "Except_Index = np.isin(Experiment_Number, ['1','2','3','4','5'], invert=True)\n",
    "File_Name = File_Name[Except_Index]\n",
    "Full_File_Path = Full_File_Path[Except_Index]\n",
    "LANGUAGE = LANGUAGE[Except_Index]\n",
    "Student_ID = Student_ID[Except_Index]\n",
    "Experiment_Number = Experiment_Number[Except_Index]\n",
    "Meta_Information = np.array([LANGUAGE, Student_ID, Experiment_Number]).transpose()\n",
    "print(\"Experiment information complete\")"
   ]
  },
  {
   "cell_type": "code",
   "execution_count": null,
   "metadata": {},
   "outputs": [],
   "source": [
    "FULL_File_List = dict()\n",
    "for i in range(len(Full_File_Path)):\n",
    "    FULL_File_List[i] = pd.read_csv(Full_File_Path[i])"
   ]
  },
  {
   "cell_type": "code",
   "execution_count": null,
   "metadata": {
    "collapsed": true
   },
   "outputs": [],
   "source": [
    "FULL_File_List_Each_Experiment = dict() # 실험정보 담을 dict (최종)\n",
    "FULL_Meta_Info_Each_Experiment = dict() # 메타정보 담을 dict\n",
    "NUM_Each_Experiment = dict() # 테스트 횟수 담을 dict\n",
    "Unique_Student_ID = np.unique(Student_ID) # 각 학생 번호 (Unique한)"
   ]
  },
  {
   "cell_type": "code",
   "execution_count": null,
   "metadata": {
    "scrolled": true
   },
   "outputs": [],
   "source": [
    "for i in range(len(Unique_Student_ID)):\n",
    "    The_Student_Info = np.in1d(Meta_Information[:,1], Unique_Student_ID[i])\n",
    "    NUM_Each_Experiment[i] = sum(The_Student_Info)\n",
    "    FULL_Meta_Info_Each_Experiment[i] = Meta_Information[The_Student_Info, :]\n",
    "    # FULL_File_List_Each_Experiment[i] = FULL_File_List[The_Student_Info]\n"
   ]
  }
 ],
 "metadata": {
  "kernelspec": {
   "display_name": "Python 3",
   "language": "python",
   "name": "python3"
  },
  "language_info": {
   "codemirror_mode": {
    "name": "ipython",
    "version": 3
   },
   "file_extension": ".py",
   "mimetype": "text/x-python",
   "name": "python",
   "nbconvert_exporter": "python",
   "pygments_lexer": "ipython3",
   "version": "3.6.3"
  }
 },
 "nbformat": 4,
 "nbformat_minor": 2
}
